
import numpy as np
import matplotlib.pyplot as plt
from scipy.optimize import curve_fit
from sklearn.metrics import r2_score
import pandas as pd

# Extract features and target
gdp_data = pd.read_csv(r"china_gdp.csv")
X = gdp_data["Year"].values
y = gdp_data["Value"].values

# Define logistic function
def logistic(x, L, x0, k):
    return L / (1 + np.exp(-k * (x - x0)))

# Initial parameter estimates
L_guess = max(y)
x0_guess = np.median(X)
k_guess = 0.1

# Fit the model
params, _ = curve_fit(logistic, X, y, p0=[L_guess, x0_guess, k_guess])
L_opt, x0_opt, k_opt = params

# Predictions
y_pred = logistic(X, L_opt, x0_opt, k_opt)

# Evaluate the model
r2 = r2_score(y, y_pred)
print(f"R² Score: {r2:.4f}")

# Plot actual vs predicted
plt.scatter(X, y, label="Actual Data", color='blue')
plt.plot(X, y_pred, label="Predicted Curve", color='red')
plt.xlabel("Year")
plt.ylabel("GDP Value")
plt.title("China GDP Prediction (Non-Linear Regression)")
plt.legend()
plt.show()
