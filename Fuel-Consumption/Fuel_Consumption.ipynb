import pandas as pd
import numpy as np
import matplotlib.pyplot as plt
from sklearn.model_selection import train_test_split
from sklearn.linear_model import LinearRegression
from sklearn.metrics import r2_score, mean_squared_error

# Load datasets
co2_file_path = "FuelConsumption.csv"
car_file_path = "used_cars_dataset.csv"

co2_data = pd.read_csv(r"FuelConsumption.csv")
car_data = pd.read_csv(r"used_cars_dataset.csv")


# Function to perform Linear Regression
def perform_linear_regression(data, feature_cols, target_col, title):
    X = data[feature_cols]
    y = data[target_col]

    # Splitting the dataset
    X_train, X_test, y_train, y_test = train_test_split(X, y, test_size=0.2, random_state=42)

    # Model training
    model = LinearRegression()
    model.fit(X_train, y_train)

    # Predictions
    y_pred = model.predict(X_test)

    # Performance metrics
    r2 = r2_score(y_test, y_pred)
    mse = mean_squared_error(y_test, y_pred)

    print(f"Model Performance for {title}:")
    print(f"R² Score: {r2:.4f}")
    print(f"Mean Squared Error: {mse:.4f}\n")

    # Plot actual vs predicted values
    plt.scatter(y_test, y_pred, alpha=0.5, color='blue')
    plt.xlabel("Actual Values")
    plt.ylabel("Predicted Values")
    plt.title(f"Actual vs Predicted - {title}")
    plt.plot([min(y_test), max(y_test)], [min(y_test), max(y_test)], color='red', linestyle='dashed')
    plt.show()


# Perform Linear Regression on CO2 Emission dataset
co2_feature_cols = ["ENGINESIZE", "CYLINDERS", "FUELCONSUMPTION_COMB"]
perform_linear_regression(co2_data, co2_feature_cols, "CO2EMISSIONS", "CO2 Emissions Prediction")

# Perform Linear Regression on Used Car dataset
car_feature_cols = ["year", "km_driven"]
perform_linear_regression(car_data, car_feature_cols, "selling_price", "Used Car Price Prediction")

